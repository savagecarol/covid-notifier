{
 "cells": [
  {
   "cell_type": "code",
   "execution_count": 42,
   "metadata": {},
   "outputs": [
    {
     "data": {
      "text/plain": [
       "True"
      ]
     },
     "execution_count": 42,
     "metadata": {},
     "output_type": "execute_result"
    }
   ],
   "source": [
    "import requests\n",
    "from bs4 import BeautifulSoup as bs\n",
    "from win10toast import ToastNotifier \n",
    "url = \"https://www.worldometers.info/coronavirus/country/india/\"\n",
    "req=requests.get(url)\n",
    "soup = bs(req.text)\n",
    "a=soup.find(\"li\",{\"class\":\"news_li\"}).strong.text.split()[0]\n",
    "b=list(soup.find(\"li\",{\"class\":\"news_li\"}).strong.next_siblings)[1].text.split()[0]\n",
    "message = \"cases \" + a + \"\\nDeaths \" + b\n",
    "toast = ToastNotifier()\n",
    "toast.show_toast(title=\"COVID 19 UPDATES\" , msg = message , duration = 10)\n"
   ]
  },
  {
   "cell_type": "code",
   "execution_count": null,
   "metadata": {},
   "outputs": [],
   "source": []
  }
 ],
 "metadata": {
  "kernelspec": {
   "display_name": "Python 3",
   "language": "python",
   "name": "python3"
  },
  "language_info": {
   "codemirror_mode": {
    "name": "ipython",
    "version": 3
   },
   "file_extension": ".py",
   "mimetype": "text/x-python",
   "name": "python",
   "nbconvert_exporter": "python",
   "pygments_lexer": "ipython3",
   "version": "3.6.8"
  }
 },
 "nbformat": 4,
 "nbformat_minor": 4
}
