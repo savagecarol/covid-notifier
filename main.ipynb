{
 "cells": [
  {
   "cell_type": "markdown",
   "metadata": {},
   "source": [
    "## covid notifier"
   ]
  },
  {
   "cell_type": "code",
   "execution_count": null,
   "metadata": {},
   "outputs": [],
   "source": [
    "import requests\n",
    "from bs4 import BeautifulSoup as bs\n",
    "\n",
    "\n",
    "from win10toast import ToastNotifier\n",
    "\n",
    "\n",
    "\n",
    "url = \"https://www.worldometers.info/coronavirus/country/india/\"\n",
    "req = requests.get(url)\n",
    "\n",
    "\n",
    "# req.status_code\n",
    "\n",
    "# req.headers\n",
    "\n",
    "obj = bs(req.text)\n",
    "\n",
    "a=obj.find(\"li\",{\"class\":\"news_li\"}).strong.text.split()[0]\n",
    "\n",
    "\n",
    "    \n",
    "b=list(obj.find(\"li\",{\"class\":\"news_li\"}).strong.next_siblings)[1].text.split()[0]\n",
    "\n",
    "\n",
    "\n",
    "notifier = ToastNotifier()\n",
    "\n",
    "message = \"New Cases - \"+ a + \"\\nDeath- \" + b\n",
    "\n",
    "message\n",
    "\n",
    "notifier.show_toast(title=\"COVID-19 Update\" , msg = message ,duration= 5)\n",
    "\n"
   ]
  }
 ],
 "metadata": {
  "kernelspec": {
   "display_name": "Python 3",
   "language": "python",
   "name": "python3"
  },
  "language_info": {
   "codemirror_mode": {
    "name": "ipython",
    "version": 3
   },
   "file_extension": ".py",
   "mimetype": "text/x-python",
   "name": "python",
   "nbconvert_exporter": "python",
   "pygments_lexer": "ipython3",
   "version": "3.6.8"
  }
 },
 "nbformat": 4,
 "nbformat_minor": 4
}
